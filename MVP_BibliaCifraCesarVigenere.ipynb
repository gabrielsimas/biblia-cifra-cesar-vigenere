{
  "nbformat": 4,
  "nbformat_minor": 0,
  "metadata": {
    "colab": {
      "provenance": [],
      "collapsed_sections": [
        "5M2H34c8yoWH"
      ]
    },
    "kernelspec": {
      "name": "python3",
      "display_name": "Python 3"
    },
    "language_info": {
      "name": "python"
    }
  },
  "cells": [
    {
      "cell_type": "markdown",
      "source": [
        "<center>\n",
        "\n",
        "# ***MVP de Machine Learning e Analytics - Uma abordagem multitarefa para a Criptoanálise Clássica: Uma homenagem aos Pioneiros das Redes Neurais Artificiais, de McCullogh e Pitts à Alan Turing***\n",
        "\n",
        "> ## ***Decifrando a Bíblia Sagrada cifrada por César e Vigenère***\n",
        "\n",
        "\n",
        "\n",
        "</center>\n",
        "\n",
        "### ***Nome:*** **Luís Gabriel Nascimento Simas**\n",
        "\n",
        "### ***Matrícula:*** **4052025000943**"
      ],
      "metadata": {
        "id": "ZfZWhUyju2N0"
      }
    },
    {
      "cell_type": "markdown",
      "source": [
        "# 0. **Apresentação**"
      ],
      "metadata": {
        "id": "5M2H34c8yoWH"
      }
    },
    {
      "cell_type": "markdown",
      "source": [
        "## 0.1. **Temos atração pelo desconhecido**"
      ],
      "metadata": {
        "id": "fciZeWbDyvLJ"
      }
    },
    {
      "cell_type": "markdown",
      "source": [
        "## 0.2. **Por quê usar cifras?**"
      ],
      "metadata": {
        "id": "cggNCEEhzDSb"
      }
    },
    {
      "cell_type": "markdown",
      "source": [
        "## 0.3. **Por quê a Bíblia?**"
      ],
      "metadata": {
        "id": "NeRrXOO8zLaC"
      }
    },
    {
      "cell_type": "markdown",
      "source": [
        "# 1. Definição do Problema"
      ],
      "metadata": {
        "id": "2qWkTIdHwQ7N"
      }
    },
    {
      "cell_type": "markdown",
      "source": [
        "## 1.1. **Descrição do Problema**"
      ],
      "metadata": {
        "id": "ZEnb5w0lwV4G"
      }
    },
    {
      "cell_type": "markdown",
      "source": [
        "# 2. **Aquisição e preparação dos dados**"
      ],
      "metadata": {
        "id": "_3ZzaynewhL-"
      }
    },
    {
      "cell_type": "markdown",
      "source": [
        "## 2.1 **Aquisição**"
      ],
      "metadata": {
        "id": "vW_rIHrAwvQO"
      }
    },
    {
      "cell_type": "markdown",
      "source": [
        "### Baixando o repositório do github"
      ],
      "metadata": {
        "id": "3llt9gDMpdfO"
      }
    },
    {
      "cell_type": "code",
      "source": [
        "!git clone https://github.com/gabrielsimas/biblia-cifra-cesar-vigenere.git"
      ],
      "metadata": {
        "colab": {
          "base_uri": "https://localhost:8080/"
        },
        "id": "G1xiUXWupc9Y",
        "outputId": "36ead5f2-d61c-4d2b-f7c5-7976dfef0a54"
      },
      "execution_count": 4,
      "outputs": [
        {
          "output_type": "stream",
          "name": "stdout",
          "text": [
            "Cloning into 'biblia-cifra-cesar-vigenere'...\n",
            "remote: Enumerating objects: 17, done.\u001b[K\n",
            "remote: Counting objects: 100% (17/17), done.\u001b[K\n",
            "remote: Compressing objects: 100% (16/16), done.\u001b[K\n",
            "remote: Total 17 (delta 5), reused 3 (delta 1), pack-reused 0 (from 0)\u001b[K\n",
            "Receiving objects: 100% (17/17), 1.49 MiB | 4.12 MiB/s, done.\n",
            "Resolving deltas: 100% (5/5), done.\n"
          ]
        }
      ]
    },
    {
      "cell_type": "markdown",
      "source": [
        "### **Instalando os pacotes para o projeto**"
      ],
      "metadata": {
        "id": "WHzebcueyTv3"
      }
    },
    {
      "cell_type": "code",
      "source": [
        "import json\n",
        "from dataclasses import dataclass, field\n",
        "from typing import List, Optional\n",
        "import random"
      ],
      "metadata": {
        "id": "lFf-DIql7Tk-"
      },
      "execution_count": 37,
      "outputs": []
    },
    {
      "cell_type": "markdown",
      "source": [
        "### **Funções e Classes auxiliares**\n",
        "### **Aqui estão todas as funções e classes utilizadas no Projeto**"
      ],
      "metadata": {
        "id": "NYUEECnkyaP2"
      }
    },
    {
      "cell_type": "code",
      "source": [
        "BIBLIA_JSON_PATH = '/content/biblia-cifra-cesar-vigenere/KJA.json'"
      ],
      "metadata": {
        "id": "yg5ohFPH9KwU"
      },
      "execution_count": 38,
      "outputs": []
    },
    {
      "cell_type": "code",
      "source": [
        "@dataclass\n",
        "class Livro:\n",
        "  abbrev: str\n",
        "  chapters: List[List[str]]\n",
        "  name: str"
      ],
      "metadata": {
        "id": "PNxT8hzL7Sp-"
      },
      "execution_count": 39,
      "outputs": []
    },
    {
      "cell_type": "code",
      "source": [
        "@dataclass\n",
        "class Biblia:\n",
        "  livros: List[Livro] = field(default_factory=list)\n",
        "\n",
        "  def carregar_arquivo_biblia_json(self, arquivo_json: str):\n",
        "    with open(arquivo_json, 'r', encoding='utf-8') as f:\n",
        "      dados_json = json.load(f)\n",
        "      self.livros = [Livro(**livro) for livro in dados_json]\n",
        "\n",
        "  def escolher_versiculo(self, livro_abbrev: Optional[str] = None, capitulo_num: Optional[int] = None) -> str:\n",
        "    \"\"\"\n",
        "    Seleciona e retorna um versículo aleatório. Pode ser filtrado por livro e capítulo.\n",
        "\n",
        "    Args:\n",
        "        livro_abbrev (Optional[str]): A abreviação do livro (ex: 'Gn'). Se None, será aleatório.\n",
        "        capitulo_num (Optional[int]): O número do capítulo (ex: 1). Se None, será aleatório.\n",
        "\n",
        "    Returns:\n",
        "        str: Um versículo formatado como \"Livro Capítulo:Versículo Texto\".\n",
        "    \"\"\"\n",
        "    livros_filtrados = self.livros\n",
        "\n",
        "    # 1. Escolhe o livro\n",
        "    if livro_abbrev:\n",
        "        livros_encontrados = [l for l in self.livros if l.abbrev.lower() == livro_abbrev.lower()]\n",
        "        if not livros_encontrados:\n",
        "            raise ValueError(f\"Livro com abreviação '{livro_abbrev}' não encontrado.\")\n",
        "        livro_escolhido = livros_encontrados[0]\n",
        "    else:\n",
        "        livro_escolhido = random.choice(self.livros)\n",
        "\n",
        "    # 2. Escolhe o capítulo\n",
        "    capitulos_do_livro = livro_escolhido.chapters\n",
        "    if capitulo_num:\n",
        "        if 0 < capitulo_num <= len(capitulos_do_livro):\n",
        "            capitulo_escolhido = capitulos_do_livro[capitulo_num - 1]\n",
        "        else:\n",
        "            raise ValueError(f\"Capítulo {capitulo_num} não encontrado no livro de {livro_escolhido.abbrev}.\")\n",
        "    else:\n",
        "        capitulo_escolhido = random.choice(capitulos_do_livro)\n",
        "        capitulo_num = livro_escolhido.chapters.index(capitulo_escolhido) + 1\n",
        "\n",
        "    # 3. Escolhe o versículo\n",
        "    versiculo_escolhido = random.choice(capitulo_escolhido)\n",
        "    numero_do_versiculo = capitulo_escolhido.index(versiculo_escolhido) + 1\n",
        "\n",
        "    # Formata o output como \"nome do livro numero do capitulo: número do versículo: texto do versículo\"\n",
        "    return f\"«{livro_escolhido.name} {capitulo_num}:{numero_do_versiculo}»:«{versiculo_escolhido}\"\n"
      ],
      "metadata": {
        "id": "BaMmCphw8GU9"
      },
      "execution_count": 40,
      "outputs": []
    },
    {
      "cell_type": "code",
      "source": [
        "biblia = Biblia()\n",
        "biblia.carregar_arquivo_biblia_json(BIBLIA_JSON_PATH)"
      ],
      "metadata": {
        "id": "hDKzpQjr93QH"
      },
      "execution_count": 41,
      "outputs": []
    },
    {
      "cell_type": "code",
      "source": [
        "biblia.escolher_versiculo()"
      ],
      "metadata": {
        "colab": {
          "base_uri": "https://localhost:8080/",
          "height": 53
        },
        "id": "aeukec8IA0zg",
        "outputId": "7683ce6c-cd94-4e9a-914c-031fbf27f100"
      },
      "execution_count": 42,
      "outputs": [
        {
          "output_type": "execute_result",
          "data": {
            "text/plain": [
              "'«2 Pedro 3:17»:«Sendo assim, amados, estando bem informados, guardaivos para que não sejais conduzidos pelo erro e sedução dos que não têm princípios morais, vindo a perder a vossa segurança e cair.'"
            ],
            "application/vnd.google.colaboratory.intrinsic+json": {
              "type": "string"
            }
          },
          "metadata": {},
          "execution_count": 42
        }
      ]
    },
    {
      "cell_type": "markdown",
      "source": [
        "#### **Algoritmos de Codificação**"
      ],
      "metadata": {
        "id": "w4N9AI_e343o"
      }
    },
    {
      "cell_type": "code",
      "source": [],
      "metadata": {
        "id": "D-jpDhvHyhtH"
      },
      "execution_count": null,
      "outputs": []
    },
    {
      "cell_type": "markdown",
      "source": [
        "#### **Algoritmos de Decodificação**"
      ],
      "metadata": {
        "id": "3mk-8NVg4AUa"
      }
    },
    {
      "cell_type": "markdown",
      "source": [
        "## 2.2. **Preparação dos dados**"
      ],
      "metadata": {
        "id": "AJRa-7FGxPe0"
      }
    },
    {
      "cell_type": "markdown",
      "source": [
        "# 3. **Pré-Processamento**"
      ],
      "metadata": {
        "id": "8j_fldzAxYuU"
      }
    },
    {
      "cell_type": "markdown",
      "source": [
        "# 4. **Modelagem e Inferência**"
      ],
      "metadata": {
        "id": "VMC4mvBrx6Zy"
      }
    },
    {
      "cell_type": "markdown",
      "source": [
        "# **Conclusão**"
      ],
      "metadata": {
        "id": "CUysDH4rx-zU"
      }
    }
  ]
}