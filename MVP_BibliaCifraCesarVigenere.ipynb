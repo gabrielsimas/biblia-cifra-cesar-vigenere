{
  "nbformat": 4,
  "nbformat_minor": 0,
  "metadata": {
    "colab": {
      "provenance": [],
      "toc_visible": true,
      "authorship_tag": "ABX9TyNAEuVn9RB74dTQHxRFlJCd",
      "include_colab_link": true
    },
    "kernelspec": {
      "name": "python3",
      "display_name": "Python 3"
    },
    "language_info": {
      "name": "python"
    }
  },
  "cells": [
    {
      "cell_type": "markdown",
      "metadata": {
        "id": "view-in-github",
        "colab_type": "text"
      },
      "source": [
        "<a href=\"https://colab.research.google.com/github/gabrielsimas/biblia-cifra-cesar-vigenere/blob/master/MVP_BibliaCifraCesarVigenere.ipynb\" target=\"_parent\"><img src=\"https://colab.research.google.com/assets/colab-badge.svg\" alt=\"Open In Colab\"/></a>"
      ]
    },
    {
      "cell_type": "markdown",
      "source": [
        "<center>\n",
        "\n",
        "# ***MVP de Machine Learning e Analytics - Uma abordagem multitarefa para a Criptoanálise Clássica: Uma homenagem aos Pioneiros das Redes Neurais Artificiais, de McCullogh e Pitts à Alan Turing***\n",
        "\n",
        "> ## ***Decifrando a Bíblia Sagrada cifrada por César e Vigenère***\n",
        "\n",
        "\n",
        "\n",
        "</center>\n",
        "\n",
        "### ***Nome:*** **Luís Gabriel Nascimento Simas**\n",
        "\n",
        "### ***Matrícula:*** **4052025000943**"
      ],
      "metadata": {
        "id": "ZfZWhUyju2N0"
      }
    },
    {
      "cell_type": "markdown",
      "source": [
        "# 0. **Apresentação**"
      ],
      "metadata": {
        "id": "5M2H34c8yoWH"
      }
    },
    {
      "cell_type": "markdown",
      "source": [
        "## 0.1. **Temos atração pelo desconhecido**"
      ],
      "metadata": {
        "id": "fciZeWbDyvLJ"
      }
    },
    {
      "cell_type": "markdown",
      "source": [
        "## 0.2. **Por quê usar cifras?**"
      ],
      "metadata": {
        "id": "cggNCEEhzDSb"
      }
    },
    {
      "cell_type": "markdown",
      "source": [
        "## 0.3. **Por quê a Bíblia?**"
      ],
      "metadata": {
        "id": "NeRrXOO8zLaC"
      }
    },
    {
      "cell_type": "markdown",
      "source": [
        "# 1. Definição do Problema"
      ],
      "metadata": {
        "id": "2qWkTIdHwQ7N"
      }
    },
    {
      "cell_type": "markdown",
      "source": [
        "## 1.1. **Descrição do Problema**"
      ],
      "metadata": {
        "id": "ZEnb5w0lwV4G"
      }
    },
    {
      "cell_type": "markdown",
      "source": [
        "# 2. **Aquisição e preparação dos dados**"
      ],
      "metadata": {
        "id": "_3ZzaynewhL-"
      }
    },
    {
      "cell_type": "markdown",
      "source": [
        "## 2.1 **Aquisição**"
      ],
      "metadata": {
        "id": "vW_rIHrAwvQO"
      }
    },
    {
      "cell_type": "markdown",
      "source": [
        "### **Instalando os pacotes para o projeto**"
      ],
      "metadata": {
        "id": "WHzebcueyTv3"
      }
    },
    {
      "cell_type": "markdown",
      "source": [
        "### **Funções e Classes auxiliares**\n",
        "### **Aqui estão todas as funções e classes utilizadas no Projeto**"
      ],
      "metadata": {
        "id": "NYUEECnkyaP2"
      }
    },
    {
      "cell_type": "code",
      "source": [],
      "metadata": {
        "id": "D-jpDhvHyhtH"
      },
      "execution_count": null,
      "outputs": []
    },
    {
      "cell_type": "markdown",
      "source": [
        "## 2.2. **Preparação dos dados**"
      ],
      "metadata": {
        "id": "AJRa-7FGxPe0"
      }
    },
    {
      "cell_type": "markdown",
      "source": [
        "# 3. **Pré-Processamento**"
      ],
      "metadata": {
        "id": "8j_fldzAxYuU"
      }
    },
    {
      "cell_type": "markdown",
      "source": [
        "# 4. **Modelagem e Inferência**"
      ],
      "metadata": {
        "id": "VMC4mvBrx6Zy"
      }
    },
    {
      "cell_type": "markdown",
      "source": [
        "# **Conclusão**"
      ],
      "metadata": {
        "id": "CUysDH4rx-zU"
      }
    }
  ]
}