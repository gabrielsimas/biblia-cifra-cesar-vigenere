{
  "nbformat": 4,
  "nbformat_minor": 0,
  "metadata": {
    "colab": {
      "provenance": [],
      "collapsed_sections": [
        "5M2H34c8yoWH",
        "fciZeWbDyvLJ",
        "cggNCEEhzDSb",
        "NeRrXOO8zLaC",
        "3llt9gDMpdfO"
      ]
    },
    "kernelspec": {
      "name": "python3",
      "display_name": "Python 3"
    },
    "language_info": {
      "name": "python"
    }
  },
  "cells": [
    {
      "cell_type": "markdown",
      "source": [
        "<center>\n",
        "\n",
        "# ***MVP de Machine Learning e Analytics - Uma abordagem multitarefa para a Criptoanálise Clássica: Uma homenagem aos Pioneiros das Redes Neurais Artificiais, de McCullogh e Pitts à Alan Turing***\n",
        "\n",
        "> ## ***Decifrando a Bíblia Sagrada cifrada por César e Vigenère***\n",
        "\n",
        "\n",
        "\n",
        "</center>\n",
        "\n",
        "### ***Nome:*** **Luís Gabriel Nascimento Simas**\n",
        "\n",
        "### ***Matrícula:*** **4052025000943**"
      ],
      "metadata": {
        "id": "ZfZWhUyju2N0"
      }
    },
    {
      "cell_type": "markdown",
      "source": [
        "# 0. **Apresentação**"
      ],
      "metadata": {
        "id": "5M2H34c8yoWH"
      }
    },
    {
      "cell_type": "markdown",
      "source": [
        "## 0.1. **Temos atração pelo desconhecido**"
      ],
      "metadata": {
        "id": "fciZeWbDyvLJ"
      }
    },
    {
      "cell_type": "markdown",
      "source": [
        "## 0.2. **Por quê usar cifras?**"
      ],
      "metadata": {
        "id": "cggNCEEhzDSb"
      }
    },
    {
      "cell_type": "markdown",
      "source": [
        "## 0.3. **Por quê a Bíblia?**"
      ],
      "metadata": {
        "id": "NeRrXOO8zLaC"
      }
    },
    {
      "cell_type": "markdown",
      "source": [
        "# 1. Definição do Problema"
      ],
      "metadata": {
        "id": "2qWkTIdHwQ7N"
      }
    },
    {
      "cell_type": "markdown",
      "source": [
        "## 1.1. **Descrição do Problema**"
      ],
      "metadata": {
        "id": "ZEnb5w0lwV4G"
      }
    },
    {
      "cell_type": "markdown",
      "source": [
        "# 2. **Aquisição e preparação dos dados**"
      ],
      "metadata": {
        "id": "_3ZzaynewhL-"
      }
    },
    {
      "cell_type": "markdown",
      "source": [
        "## 2.1 **Aquisição**"
      ],
      "metadata": {
        "id": "vW_rIHrAwvQO"
      }
    },
    {
      "cell_type": "markdown",
      "source": [
        "### Baixando o repositório do github"
      ],
      "metadata": {
        "id": "3llt9gDMpdfO"
      }
    },
    {
      "cell_type": "code",
      "source": [
        "!git clone https://github.com/gabrielsimas/biblia-cifra-cesar-vigenere.git"
      ],
      "metadata": {
        "colab": {
          "base_uri": "https://localhost:8080/"
        },
        "id": "G1xiUXWupc9Y",
        "outputId": "0f9b6f70-025c-4bda-d88f-20d9d47772ad"
      },
      "execution_count": 128,
      "outputs": [
        {
          "output_type": "stream",
          "name": "stdout",
          "text": [
            "fatal: destination path 'biblia-cifra-cesar-vigenere' already exists and is not an empty directory.\n"
          ]
        }
      ]
    },
    {
      "cell_type": "markdown",
      "source": [
        "### **Instalando os pacotes para o projeto**"
      ],
      "metadata": {
        "id": "WHzebcueyTv3"
      }
    },
    {
      "cell_type": "code",
      "source": [
        "import json\n",
        "from dataclasses import dataclass, field\n",
        "from typing import List, Optional\n",
        "import random"
      ],
      "metadata": {
        "id": "lFf-DIql7Tk-"
      },
      "execution_count": 129,
      "outputs": []
    },
    {
      "cell_type": "markdown",
      "source": [
        "### **Funções e Classes auxiliares**\n",
        "### **Aqui estão todas as funções e classes utilizadas no Projeto**"
      ],
      "metadata": {
        "id": "NYUEECnkyaP2"
      }
    },
    {
      "cell_type": "code",
      "source": [
        "BIBLIA_JSON_PATH = '/content/biblia-cifra-cesar-vigenere/KJA.json'"
      ],
      "metadata": {
        "id": "yg5ohFPH9KwU"
      },
      "execution_count": 130,
      "outputs": []
    },
    {
      "cell_type": "code",
      "source": [
        "@dataclass\n",
        "class Livro:\n",
        "  abbrev: str\n",
        "  chapters: List[List[str]]\n",
        "  name: str"
      ],
      "metadata": {
        "id": "PNxT8hzL7Sp-"
      },
      "execution_count": 131,
      "outputs": []
    },
    {
      "cell_type": "code",
      "source": [
        "from os import lchown\n",
        "@dataclass\n",
        "class Biblia:\n",
        "  livros: List[Livro] = field(default_factory=list)\n",
        "\n",
        "  def carregar_arquivo_biblia_json(self, arquivo_json: str):\n",
        "    with open(arquivo_json, 'r', encoding='utf-8') as f:\n",
        "      dados_json = json.load(f)\n",
        "      self.livros = [Livro(**livro) for livro in dados_json]\n",
        "\n",
        "  def escolher_versiculo(self, livro_abbrev: Optional[str] = None, capitulo_num: Optional[int] = None) -> str:\n",
        "    \"\"\"\n",
        "    Seleciona e retorna um versículo aleatório. Pode ser filtrado por livro e capítulo.\n",
        "\n",
        "    Args:\n",
        "        livro_abbrev (Optional[str]): A abreviação do livro (ex: 'Gn'). Se None, será aleatório.\n",
        "        capitulo_num (Optional[int]): O número do capítulo (ex: 1). Se None, será aleatório.\n",
        "\n",
        "    Returns:\n",
        "        str: Um versículo formatado como \"Livro Capítulo:Versículo Texto\".\n",
        "    \"\"\"\n",
        "    livros_filtrados = self.livros\n",
        "\n",
        "    # 1. Escolhe o livro\n",
        "    if livro_abbrev:\n",
        "        livros_encontrados = [l for l in self.livros if l.abbrev.lower() == livro_abbrev.lower()]\n",
        "        if not livros_encontrados:\n",
        "            raise ValueError(f\"Livro com abreviação '{livro_abbrev}' não encontrado.\")\n",
        "        livro_escolhido = livros_encontrados[0]\n",
        "    else:\n",
        "        livro_escolhido = random.choice(self.livros)\n",
        "\n",
        "    # 2. Escolhe o capítulo\n",
        "    capitulos_do_livro = livro_escolhido.chapters\n",
        "    if capitulo_num:\n",
        "        if 0 < capitulo_num <= len(capitulos_do_livro):\n",
        "            capitulo_escolhido = capitulos_do_livro[capitulo_num - 1]\n",
        "        else:\n",
        "            raise ValueError(f\"Capítulo {capitulo_num} não encontrado no livro de {livro_escolhido.abbrev}.\")\n",
        "    else:\n",
        "        capitulo_escolhido = random.choice(capitulos_do_livro)\n",
        "        capitulo_num = livro_escolhido.chapters.index(capitulo_escolhido) + 1\n",
        "\n",
        "    # 3. Escolhe o versículo\n",
        "    versiculo_escolhido = random.choice(capitulo_escolhido)\n",
        "    numero_do_versiculo = capitulo_escolhido.index(versiculo_escolhido) + 1\n",
        "\n",
        "    # Formata o output como \"nome do livro numero do capitulo: número do versículo: texto do versículo\"\n",
        "    return f\"{livro_escolhido.name} {capitulo_num}:{numero_do_versiculo}: {versiculo_escolhido}\"\n"
      ],
      "metadata": {
        "id": "BaMmCphw8GU9"
      },
      "execution_count": 132,
      "outputs": []
    },
    {
      "cell_type": "code",
      "source": [
        "class Cifrador():\n",
        "  def __init__(self, texto: str) -> None:\n",
        "    self._texto_original = texto\n",
        "    self._texto_atual = texto\n",
        "    self._esta_cifrada = False\n",
        "\n",
        "  @property\n",
        "  def texto_atual(self) -> str:\n",
        "    \"\"\"Getter que retorna o texto no seu estado atual.\"\"\"\n",
        "    return self._texto_atual\n",
        "\n",
        "  @texto_atual.setter\n",
        "  def texto_atual(self, novo_texto: str):\n",
        "    \"\"\"Setter que atualiza o texto atual.\"\"\"\n",
        "    self._texto_atual = novo_texto\n",
        "\n",
        "  @property\n",
        "  def texto_original(self) -> str:\n",
        "    \"\"\"Getter que retorna o texto original.\"\"\"\n",
        "    return self._texto_original\n",
        "\n",
        "  def converte_minuscula(self):\n",
        "    \"\"\"\n",
        "    Converte o texto atual para minúsculas, mas apenas se ele não estiver cifrado.\n",
        "    \"\"\"\n",
        "    if not self._esta_cifrada:\n",
        "      self.texto_atual = self.texto_atual.lower()\n",
        "    else:\n",
        "      print(\"Erro: Não é possível converter para minúsculas. O texto já está cifrado.\")\n",
        "\n",
        "  def encode_cesar(self, shift: int) -> str:\n",
        "    \"\"\"\n",
        "    Codifica o texto atual usando a Cifra de César, preservando a capitalização.\n",
        "    \"\"\"\n",
        "    resultado = \"\"\n",
        "    for char in self._texto_atual:\n",
        "      if 'a' <= char <= 'z':\n",
        "        nova_posicao = (ord(char) - ord('a') + shift) % 26\n",
        "        resultado += chr(ord('a') + nova_posicao)\n",
        "      elif 'A' <= char <= 'Z':\n",
        "        nova_posicao = (ord(char) - ord('A') + shift) % 26\n",
        "        resultado += chr(ord('A') + nova_posicao)\n",
        "      else:\n",
        "        resultado += char\n",
        "\n",
        "    self.texto_atual = resultado\n",
        "    self._esta_cifrada = True\n",
        "    return self.texto_atual\n",
        "\n",
        "  def encode_vigenere(self, chave: str) -> str:\n",
        "    \"\"\"\n",
        "    Codifica o texto atual usando a Cifra de Vigenère, preservando a capitalização.\n",
        "    \"\"\"\n",
        "    resultado = \"\"\n",
        "    chave = chave.lower()\n",
        "    indice_chave = 0\n",
        "\n",
        "    for char in self._texto_atual:\n",
        "      if 'a' <= char <= 'z':\n",
        "        shift_vigenere = ord(chave[indice_chave]) - ord('a')\n",
        "        nova_posicao = (ord(char) - ord('a') + shift_vigenere) % 26\n",
        "        resultado += chr(ord('a') + nova_posicao)\n",
        "        indice_chave = (indice_chave + 1) % len(chave)\n",
        "      elif 'A' <= char <= 'Z':\n",
        "        shift_vigenere = ord(chave[indice_chave]) - ord('a')\n",
        "        nova_posicao = (ord(char) - ord('A') + shift_vigenere) % 26\n",
        "        resultado += chr(ord('A') + nova_posicao)\n",
        "        indice_chave = (indice_chave + 1) % len(chave)\n",
        "      else:\n",
        "        resultado += char\n",
        "\n",
        "    self.texto_atual = resultado\n",
        "    self._esta_cifrada = True\n",
        "    return self._texto_atual\n",
        "\n",
        "  def decode_cesar(self, shift: int) -> str:\n",
        "    \"\"\"\n",
        "    Decodifica o texto atual usando a Cifra de César.\n",
        "    \"\"\"\n",
        "    self._esta_cifrada = False\n",
        "    return self.encode_cesar(-shift)\n",
        "\n",
        "  def decode_vigenere(self, chave: str) -> str:\n",
        "    \"\"\"\n",
        "    Decodifica o texto atual usando a Cifra de Vigenère.\n",
        "    \"\"\"\n",
        "    resultado = \"\"\n",
        "    chave = chave.lower()\n",
        "    indice_chave = 0\n",
        "\n",
        "    for char in self._texto_atual:\n",
        "      if 'a' <= char <= 'z':\n",
        "        shift_vigenere = ord(chave[indice_chave]) - ord('a')\n",
        "        nova_posicao = (ord(char) - ord('a') - shift_vigenere) % 26\n",
        "        resultado += chr(ord('a') + nova_posicao)\n",
        "        indice_chave = (indice_chave + 1) % len(chave)\n",
        "      elif 'A' <= char <= 'Z':\n",
        "        shift_vigenere = ord(chave[indice_chave]) - ord('a')\n",
        "        nova_posicao = (ord(char) - ord('A') - shift_vigenere) % 26\n",
        "        resultado += chr(ord('A') + nova_posicao)\n",
        "        indice_chave = (indice_chave + 1) % len(chave)\n",
        "      else:\n",
        "        resultado += char\n",
        "\n",
        "    self._esta_cifrada = False\n",
        "    self.texto_atual = resultado\n",
        "    return self.texto_atual\n",
        "\n",
        "  def reset(self) -> str:\n",
        "    \"\"\"\n",
        "    Reseta o texto atual para o texto original.\n",
        "    \"\"\"\n",
        "    self._esta_cifrada = False\n",
        "    self.texto_atual = self.texto_original\n",
        "    return self.texto_atual"
      ],
      "metadata": {
        "id": "D-jpDhvHyhtH"
      },
      "execution_count": 133,
      "outputs": []
    },
    {
      "cell_type": "code",
      "source": [
        "import unicodedata\n",
        "import re\n",
        "\n",
        "def extrair_chave_da_citacao(texto_completo: str) -> str:\n",
        "  \"\"\"\n",
        "    Extrai a citação de um versículo, remove a acentuação e outros caracteres, e retorna apenas as letras.\n",
        "\n",
        "    Args:\n",
        "        texto_completo (str): O versículo completo, incluindo a citação (ex: \"3 João 1:3: ...\").\n",
        "\n",
        "    Returns:\n",
        "        str: Apenas as letras da citação, em minúsculas e sem acentuação (ex: \"joao\").\n",
        "  \"\"\"\n",
        "  match = re.search(r'^(.*?):', texto_completo)\n",
        "\n",
        "  if match:\n",
        "    citacao_bruta = match.group(1)\n",
        "    citacao_sem_acento = unicodedata.normalize('NFKD', citacao_bruta).encode('ascii','ignore').decode('utf-8')\n",
        "    chave_limpa = re.sub(r'[^a-zA-Z]','', citacao_sem_acento)\n",
        "    return chave_limpa.lower()\n",
        "\n",
        "  return \"\""
      ],
      "metadata": {
        "id": "5oIa47Md4Yj7"
      },
      "execution_count": 134,
      "outputs": []
    },
    {
      "cell_type": "code",
      "source": [
        "@dataclass\n",
        "class AmostraDataset:\n",
        "  \"\"\"\n",
        "  Representa uma única amostra de dados para o dataset.\n",
        "  \"\"\"\n",
        "  texto_original: str\n",
        "  texto_cifrado: str\n",
        "  tipo_cifra: str\n",
        "  chave_usada: Optional[str] = None"
      ],
      "metadata": {
        "id": "hXi45Fug-qsE"
      },
      "execution_count": 135,
      "outputs": []
    },
    {
      "cell_type": "code",
      "source": [
        "import pandas as pd\n",
        "\n",
        "class GeradorConjuntoDados:\n",
        "  def __init__(self, biblia: Biblia, cifrador: Cifrador) -> None:\n",
        "    self._biblia = biblia\n",
        "    self._cifrador = cifrador\n",
        "\n",
        "  def _extrair_e_limpar_citacao(self, versiculo_completo: str) -> tuple[str, str]:\n",
        "    \"\"\"\n",
        "    Extrai a citação de um versículo, remove a acentuação e outros caracteres, e retorna apenas as letras.\n",
        "\n",
        "    Args:\n",
        "        texto_completo (str): O versículo completo, incluindo a citação (ex: \"3 João 1:3: ...\").\n",
        "\n",
        "    Returns:\n",
        "        str: Apenas as letras da citação, em minúsculas e sem acentuação (ex: \"joao\").\n",
        "    \"\"\"\n",
        "    partes = versiculo_completo.split(' ', 2)\n",
        "    if len(partes) < 3:\n",
        "      return \"\", \"\"\n",
        "\n",
        "    citacao_completa = \" \".join(partes[:2])\n",
        "    texto_original = partes[2]\n",
        "\n",
        "    citacao_sem_acento = unicodedata.normalize('NFKD', citacao_completa).encode('ascii','ignore').decode('utf-8')\n",
        "    citacao_limpa = re.sub(r'[^a-zA-Z]', '', citacao_sem_acento)\n",
        "\n",
        "    chave_final = citacao_limpa.lower()\n",
        "\n",
        "    return chave_final, texto_original\n",
        "\n",
        "  def _processar_cesar(self, texto_original: str) -> dict:\n",
        "    self._cifrador.texto_atual = texto_original\n",
        "    shift = random.randint(1, 25)\n",
        "    texto_cifrado = self._cifrador.encode_cesar(shift)\n",
        "    return AmostraDataset(\n",
        "        texto_original=texto_original,\n",
        "        texto_cifrado=texto_cifrado,\n",
        "        tipo_cifra=\"cesar\",\n",
        "        chave_usada=str(shift)\n",
        "    )\n",
        "\n",
        "  def _processar_vigenere(self, texto_original: str, chave_base: str) -> dict:\n",
        "    self._cifrador.texto_atual = texto_original\n",
        "    shift_cesar_chave = random.randint(1, 25)\n",
        "\n",
        "    chave_final = self._cifrador.encode_cesar(shift=shift_cesar_chave)\n",
        "    texto_cifrado = self._cifrador.encode_vigenere(chave=chave_final)\n",
        "\n",
        "    return AmostraDataset(\n",
        "        texto_original=texto_original,\n",
        "        texto_cifrado=texto_cifrado,\n",
        "        tipo_cifra=\"cesar\",\n",
        "        chave_usada=chave_final\n",
        "    )\n",
        "\n",
        "  def gerar_conjunto_dados(self, nome_arquivo: str = \"dataset_biblia_criptografada.parquet\"):\n",
        "    \"\"\"\n",
        "      Gera um dataset completo com todos os versículos da Bíblia,\n",
        "      codificados com as cifras de César ou Vigenère, de forma aleatória,\n",
        "      e salva o resultado em um arquivo Parquet.\n",
        "\n",
        "      Args:\n",
        "          nome_arquivo (str): O nome do arquivo Parquet a ser salvo.\n",
        "    \"\"\"\n",
        "    amostras = []\n",
        "\n",
        "    todos_os_versiculos = (versiculo for livro in self._biblia.livros\n",
        "                            for capitulo in livro.chapters for versiculo in capitulo)\n",
        "\n",
        "    for versiculo_completo in todos_os_versiculos:\n",
        "      citacao_limpa, texto_original = self._extrair_e_limpar_citacao(versiculo_completo)\n",
        "\n",
        "      if not text_original:\n",
        "        continue\n",
        "\n",
        "      cifra_escolhida = random.choice([\"cesar\", \"vigenere\"])\n",
        "\n",
        "      if cifra_escolhida == \"cesar\":\n",
        "        amostra = self._processar_cesar(texto_original)\n",
        "      else:\n",
        "        amostra = self._processar_vigenere(texto_original, citacao_limpa)\n",
        "\n",
        "      amostras.append(amostra)\n",
        "\n",
        "    df_dataset = pd.DataFrame(amostras)\n",
        "    df_dataset.to_parquet(nome_arquivo, index=False)\n",
        "    print(f\"Dataset gerado e salvo com sucesso em '{nome_arquivo}'!\")\n"
      ],
      "metadata": {
        "id": "AG4ffEso9NOO"
      },
      "execution_count": 136,
      "outputs": []
    },
    {
      "cell_type": "markdown",
      "source": [
        "## 2.2. **Preparação dos dados**"
      ],
      "metadata": {
        "id": "AJRa-7FGxPe0"
      }
    },
    {
      "cell_type": "markdown",
      "source": [
        "#### **Criação do dataset**"
      ],
      "metadata": {
        "id": "_lq3zQSya7r3"
      }
    },
    {
      "cell_type": "code",
      "source": [
        "biblia_obj = Biblia()\n",
        "cifrador_obj = Cifrador(\"\")"
      ],
      "metadata": {
        "id": "w6_xm87kZlK6"
      },
      "execution_count": 137,
      "outputs": []
    },
    {
      "cell_type": "code",
      "source": [
        "biblia_obj.carregar_arquivo_biblia_json(BIBLIA_JSON_PATH)"
      ],
      "metadata": {
        "id": "ZIJ7FxkSZq7M"
      },
      "execution_count": 138,
      "outputs": []
    },
    {
      "cell_type": "code",
      "source": [
        "gerador = GeradorConjuntoDados(biblia=biblia_obj, cifrador=cifrador_obj)\n",
        "gerador.gerar_conjunto_dados(nome_arquivo='/content/biblia-cifra-cesar-vigenere/dataset_biblia_criptografada.parquet')"
      ],
      "metadata": {
        "colab": {
          "base_uri": "https://localhost:8080/"
        },
        "id": "9KmniHH8ZvbR",
        "outputId": "5d7f2835-f1e5-4b7a-8eb1-d16d34cdf036"
      },
      "execution_count": 139,
      "outputs": [
        {
          "output_type": "stream",
          "name": "stdout",
          "text": [
            "Dataset gerado e salvo com sucesso em '/content/biblia-cifra-cesar-vigenere/dataset_biblia_criptografada.parquet'!\n"
          ]
        }
      ]
    },
    {
      "cell_type": "markdown",
      "source": [
        "# 3. **Pré-Processamento**"
      ],
      "metadata": {
        "id": "8j_fldzAxYuU"
      }
    },
    {
      "cell_type": "markdown",
      "source": [
        "# 4. **Modelagem e Inferência**"
      ],
      "metadata": {
        "id": "VMC4mvBrx6Zy"
      }
    },
    {
      "cell_type": "markdown",
      "source": [
        "# **Conclusão**"
      ],
      "metadata": {
        "id": "CUysDH4rx-zU"
      }
    }
  ]
}